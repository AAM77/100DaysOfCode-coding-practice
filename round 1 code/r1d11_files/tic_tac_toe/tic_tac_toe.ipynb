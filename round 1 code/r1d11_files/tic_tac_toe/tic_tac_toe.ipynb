{
 "cells": [
  {
   "cell_type": "code",
   "execution_count": 96,
   "metadata": {},
   "outputs": [],
   "source": [
    "\n",
    "board = [\"1\", \"2\", \"3\", \"4\", \"5\", \"6\", \"7\", \"8\", \"9\"]\n",
    "players = [\"\",\"\"]\n",
    "\n",
    "# GREETS THE PLAYER\n",
    "def greet_player():\n",
    "    print(\"Welcome to Tic-Tac-Toe\")\n",
    "\n",
    "# PRINTS THE GAME LOGO\n",
    "def print_game_logo():\n",
    "\n",
    "    title = \"\"\"\n",
    "    #######  #######   ######\n",
    "       #        #      #\n",
    "       #        #      #\n",
    "       #        #      #\n",
    "       #     #######   ######\n",
    "\n",
    "    #######   ####     ######\n",
    "       #     #    #    #\n",
    "       #     ######    #\n",
    "       #     #    #    #\n",
    "       #     #    #    ######\n",
    "\n",
    "    #######   ####     ######\n",
    "       #     #    #    #\n",
    "       #     #    #    ######\n",
    "       #     #    #    #\n",
    "       #      ####     ######\n",
    "    \"\"\"\n",
    "\n",
    "    print(title)\n",
    "\n",
    "\n",
    "    # ASKS THE PLAYER TO CHOOSE X or O\n",
    "def choose_x_o():\n",
    "\n",
    "    player_choice = input(\"Do you want to be 'X' or 'O'?\").upper()\n",
    "    \n",
    "    if player_choice == 'X':\n",
    "        print(\"You are now 'X', Player One.\")\n",
    "        print(\"Player two is 'O'.\")\n",
    "        print(\"Starting the game.\")\n",
    "    elif player_choice == 'O':\n",
    "        print(\"You are now 'O', Player One.\")\n",
    "        print(\"Player two is 'X'.\")\n",
    "        print(\"Starting the game.\")\n",
    "    else:\n",
    "        print(\"Incorrect choice. Choose 'X' or 'O'\")\n",
    "        choose_x_o()\n",
    "        \n",
    "    set_players(player_choice)\n",
    "\n",
    "    \n",
    "\n",
    "\n",
    "# SETS THE PLAYERS_1 and PLAYER_2 to\n",
    "def set_players(x_or_o):\n",
    "    if x_or_o.upper() == 'X':\n",
    "        players[0] = 'X'\n",
    "        players[1] = 'O'\n",
    "    else:\n",
    "        players[0] = 'O'\n",
    "        players[1] = 'X'\n",
    "\n",
    "\n",
    "# PRINTS THE BOARD\n",
    "\n",
    "def print_board():\n",
    "\n",
    "    print(f\" {board[0]} | {board[1]} | {board[2]} \")\n",
    "    print(\"-----------\")\n",
    "    print(f\" {board[3]} | {board[4]} | {board[5]} \")\n",
    "    print(\"-----------\")\n",
    "    print(f\" {board[6]} | {board[7]} | {board[8]} \")\n",
    "\n",
    "# GETS USER INPUT AND DETERMINES IF VALID\n",
    "def pick_position():\n",
    "    desired_position = int(input(\"Choose a position to place your mark. (1-9)\"))\n",
    "\n",
    "    if ((1 <= desired_position) and (desired_position <= 9)):\n",
    "        board_index = desired_position - 1\n",
    "        update_board(board_index)\n",
    "    else:\n",
    "        print(\"Invalid choice. You must choose a position from 1 - 9\")\n",
    "        choose_position()\n",
    "\n",
    "# UPDATES THE BOARD ARRAY WITH THE NEW POSITION\n",
    "def update_board(pos_choice):\n",
    "    \n",
    "    board[pos_choice] = 'X' # or 'O' ... the mark belonging to the current player\n",
    "    print_board()\n"
   ]
  },
  {
   "cell_type": "code",
   "execution_count": 2,
   "metadata": {},
   "outputs": [
    {
     "name": "stdout",
     "output_type": "stream",
     "text": [
      "\n",
      "    #######  #######   ######\n",
      "       #        #      #\n",
      "       #        #      #\n",
      "       #        #      #\n",
      "       #     #######   ######\n",
      "\n",
      "    #######   ####     ######\n",
      "       #     #    #    #\n",
      "       #     ######    #\n",
      "       #     #    #    #\n",
      "       #     #    #    ######\n",
      "\n",
      "    #######   ####     ######\n",
      "       #     #    #    #\n",
      "       #     #    #    ######\n",
      "       #     #    #    #\n",
      "       #      ####     ######\n",
      "    \n"
     ]
    }
   ],
   "source": [
    "print_game_logo()"
   ]
  },
  {
   "cell_type": "code",
   "execution_count": 3,
   "metadata": {},
   "outputs": [
    {
     "name": "stdout",
     "output_type": "stream",
     "text": [
      "Welcome to Tic-Tac-Toe\n"
     ]
    }
   ],
   "source": [
    "greet_player()"
   ]
  },
  {
   "cell_type": "code",
   "execution_count": 4,
   "metadata": {},
   "outputs": [
    {
     "data": {
      "text/plain": [
       "''"
      ]
     },
     "execution_count": 4,
     "metadata": {},
     "output_type": "execute_result"
    }
   ],
   "source": [
    "player_1"
   ]
  },
  {
   "cell_type": "code",
   "execution_count": 5,
   "metadata": {},
   "outputs": [
    {
     "data": {
      "text/plain": [
       "''"
      ]
     },
     "execution_count": 5,
     "metadata": {},
     "output_type": "execute_result"
    }
   ],
   "source": [
    "player_2"
   ]
  },
  {
   "cell_type": "code",
   "execution_count": 6,
   "metadata": {},
   "outputs": [
    {
     "data": {
      "text/plain": [
       "['1', '2', '3', '4', '5', '6', '7', '8', '9']"
      ]
     },
     "execution_count": 6,
     "metadata": {},
     "output_type": "execute_result"
    }
   ],
   "source": [
    "board"
   ]
  },
  {
   "cell_type": "code",
   "execution_count": 72,
   "metadata": {},
   "outputs": [
    {
     "name": "stdout",
     "output_type": "stream",
     "text": [
      "Do you want to be 'X' or 'O'?l\n",
      "Incorrect choice. Choose 'X' or 'O'\n",
      "Do you want to be 'X' or 'O'?k\n",
      "Incorrect choice. Choose 'X' or 'O'\n",
      "Do you want to be 'X' or 'O'?sdad\n",
      "Incorrect choice. Choose 'X' or 'O'\n",
      "Do you want to be 'X' or 'O'?asfk\n",
      "Incorrect choice. Choose 'X' or 'O'\n",
      "Do you want to be 'X' or 'O'?xasa\n",
      "Incorrect choice. Choose 'X' or 'O'\n",
      "Do you want to be 'X' or 'O'?odsda\n",
      "Incorrect choice. Choose 'X' or 'O'\n",
      "Do you want to be 'X' or 'O'?o d\n",
      "Incorrect choice. Choose 'X' or 'O'\n",
      "Do you want to be 'X' or 'O'?x o\n",
      "Incorrect choice. Choose 'X' or 'O'\n",
      "Do you want to be 'X' or 'O'?x\n",
      "You are now 'X', Player One.\n",
      "Player two is 'O'.\n",
      "Starting the game.\n"
     ]
    }
   ],
   "source": [
    "choose_player()"
   ]
  },
  {
   "cell_type": "code",
   "execution_count": 73,
   "metadata": {},
   "outputs": [
    {
     "data": {
      "text/plain": [
       "'X'"
      ]
     },
     "execution_count": 73,
     "metadata": {},
     "output_type": "execute_result"
    }
   ],
   "source": [
    "players[0]"
   ]
  },
  {
   "cell_type": "code",
   "execution_count": 74,
   "metadata": {},
   "outputs": [
    {
     "data": {
      "text/plain": [
       "'O'"
      ]
     },
     "execution_count": 74,
     "metadata": {},
     "output_type": "execute_result"
    }
   ],
   "source": [
    "players[1]"
   ]
  },
  {
   "cell_type": "code",
   "execution_count": 75,
   "metadata": {},
   "outputs": [
    {
     "name": "stdout",
     "output_type": "stream",
     "text": [
      "Do you want to be 'X' or 'O'?o\n",
      "You are now 'O', Player One.\n",
      "Player two is 'X'.\n",
      "Starting the game.\n"
     ]
    }
   ],
   "source": [
    "choose_player()"
   ]
  },
  {
   "cell_type": "code",
   "execution_count": 76,
   "metadata": {},
   "outputs": [
    {
     "data": {
      "text/plain": [
       "'O'"
      ]
     },
     "execution_count": 76,
     "metadata": {},
     "output_type": "execute_result"
    }
   ],
   "source": [
    "players[0]"
   ]
  },
  {
   "cell_type": "code",
   "execution_count": 77,
   "metadata": {},
   "outputs": [
    {
     "data": {
      "text/plain": [
       "'X'"
      ]
     },
     "execution_count": 77,
     "metadata": {},
     "output_type": "execute_result"
    }
   ],
   "source": [
    "players[1]"
   ]
  },
  {
   "cell_type": "code",
   "execution_count": 78,
   "metadata": {},
   "outputs": [
    {
     "data": {
      "text/plain": [
       "['1', '2', '3', '4', '5', '6', '7', '8', '9']"
      ]
     },
     "execution_count": 78,
     "metadata": {},
     "output_type": "execute_result"
    }
   ],
   "source": [
    "board"
   ]
  },
  {
   "cell_type": "code",
   "execution_count": 79,
   "metadata": {},
   "outputs": [
    {
     "name": "stdout",
     "output_type": "stream",
     "text": [
      " X | 2 | 3 \n",
      "-----------\n",
      " 4 | 5 | 6 \n",
      "-----------\n",
      " 7 | 8 | 9 \n"
     ]
    }
   ],
   "source": [
    "update_board(0)"
   ]
  },
  {
   "cell_type": "code",
   "execution_count": 80,
   "metadata": {},
   "outputs": [
    {
     "name": "stdout",
     "output_type": "stream",
     "text": [
      " X | 2 | 3 \n",
      "-----------\n",
      " 4 | 5 | 6 \n",
      "-----------\n",
      " 7 | X | 9 \n"
     ]
    }
   ],
   "source": [
    "update_board(7)"
   ]
  },
  {
   "cell_type": "code",
   "execution_count": 89,
   "metadata": {},
   "outputs": [
    {
     "name": "stdout",
     "output_type": "stream",
     "text": [
      "Choose a position to place your mark. (1-9)1\n",
      " X | 2 | 3 \n",
      "-----------\n",
      " 4 | 5 | 6 \n",
      "-----------\n",
      " 7 | 8 | 9 \n"
     ]
    }
   ],
   "source": [
    "pick_position()"
   ]
  },
  {
   "cell_type": "code",
   "execution_count": 92,
   "metadata": {},
   "outputs": [
    {
     "name": "stdout",
     "output_type": "stream",
     "text": [
      "Choose a position to place your mark. (1-9)10\n",
      "Invalid choice. You must choose a position from 1 - 9\n",
      "Choose a position to place your mark. (1-9)10\n",
      "Invalid choice. You must choose a position from 1 - 9\n",
      "Choose a position to place your mark. (1-9)0\n",
      "Invalid choice. You must choose a position from 1 - 9\n",
      "Choose a position to place your mark. (1-9)1\n",
      " X | 2 | 3 \n",
      "-----------\n",
      " 4 | 5 | 6 \n",
      "-----------\n",
      " 7 | 8 | 9 \n"
     ]
    }
   ],
   "source": [
    "pick_position()"
   ]
  },
  {
   "cell_type": "code",
   "execution_count": 93,
   "metadata": {},
   "outputs": [
    {
     "name": "stdout",
     "output_type": "stream",
     "text": [
      "Choose a position to place your mark. (1-9)9\n",
      " X | 2 | 3 \n",
      "-----------\n",
      " 4 | 5 | 6 \n",
      "-----------\n",
      " 7 | 8 | X \n"
     ]
    }
   ],
   "source": [
    "pick_position()"
   ]
  },
  {
   "cell_type": "code",
   "execution_count": 94,
   "metadata": {},
   "outputs": [
    {
     "name": "stdout",
     "output_type": "stream",
     "text": [
      "Choose a position to place your mark. (1-9)10\n",
      "Invalid choice. You must choose a position from 1 - 9\n",
      "Choose a position to place your mark. (1-9)3\n",
      " X | 2 | X \n",
      "-----------\n",
      " 4 | 5 | 6 \n",
      "-----------\n",
      " 7 | 8 | X \n"
     ]
    }
   ],
   "source": [
    "pick_position()"
   ]
  },
  {
   "cell_type": "code",
   "execution_count": 95,
   "metadata": {},
   "outputs": [
    {
     "name": "stdout",
     "output_type": "stream",
     "text": [
      "Choose a position to place your mark. (1-9)4\n",
      " X | 2 | X \n",
      "-----------\n",
      " X | 5 | 6 \n",
      "-----------\n",
      " 7 | 8 | X \n"
     ]
    }
   ],
   "source": [
    "pick_position()"
   ]
  },
  {
   "cell_type": "code",
   "execution_count": 97,
   "metadata": {},
   "outputs": [
    {
     "name": "stdout",
     "output_type": "stream",
     "text": [
      "Choose a position to place your mark. (1-9)8\n",
      " 1 | 2 | 3 \n",
      "-----------\n",
      " 4 | 5 | 6 \n",
      "-----------\n",
      " 7 | X | 9 \n"
     ]
    }
   ],
   "source": [
    "pick_position()"
   ]
  },
  {
   "cell_type": "code",
   "execution_count": null,
   "metadata": {},
   "outputs": [],
   "source": []
  }
 ],
 "metadata": {
  "kernelspec": {
   "display_name": "Python 3",
   "language": "python",
   "name": "python3"
  },
  "language_info": {
   "codemirror_mode": {
    "name": "ipython",
    "version": 3
   },
   "file_extension": ".py",
   "mimetype": "text/x-python",
   "name": "python",
   "nbconvert_exporter": "python",
   "pygments_lexer": "ipython3",
   "version": "3.7.1"
  }
 },
 "nbformat": 4,
 "nbformat_minor": 2
}
