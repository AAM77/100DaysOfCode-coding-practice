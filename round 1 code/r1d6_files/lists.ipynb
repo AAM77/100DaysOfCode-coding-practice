{
 "cells": [
  {
   "cell_type": "code",
   "execution_count": 27,
   "metadata": {},
   "outputs": [
    {
     "name": "stdout",
     "output_type": "stream",
     "text": [
      "Ostrich 1\n",
      "Ostrich 2\n",
      "Ostrich 3\n"
     ]
    }
   ],
   "source": [
    "#3-1\n",
    "ostriches = ['Ostrich 1', 'Ostrich 2', 'Ostrich 3']\n",
    "print(ostriches[0])\n",
    "print(ostriches[1])\n",
    "print(ostriches[2])"
   ]
  },
  {
   "cell_type": "code",
   "execution_count": 28,
   "metadata": {},
   "outputs": [
    {
     "name": "stdout",
     "output_type": "stream",
     "text": [
      "I feed Ostrich 1 everyday at noon.\n",
      "I feed Ostrich 2 everyday at noon.\n",
      "I feed Ostrich 3 everyday at noon.\n"
     ]
    }
   ],
   "source": [
    "#3-2\n",
    "ostriches = ['Ostrich 1', 'Ostrich 2', 'Ostrich 3']\n",
    "print(f'I feed {ostriches[0]} everyday at noon.')\n",
    "print(f'I feed {ostriches[1]} everyday at noon.')\n",
    "print(f'I feed {ostriches[2]} everyday at noon.')"
   ]
  },
  {
   "cell_type": "code",
   "execution_count": 29,
   "metadata": {},
   "outputs": [
    {
     "name": "stdout",
     "output_type": "stream",
     "text": [
      "Owning a car can get really expensive, but it offers the most freedom.\n",
      "\n",
      "I don't like traveling by bus. It always gets overcrowded and smelly. It also gets stuck in traffic a lot.\n",
      "\n",
      "Going by mta train isn't too bad, but there are so many delays and it gets overcrowded easily.\n",
      "\n",
      "Going by plane is great for long distance, but the whole process of getting on a train takes hours.\n",
      "\n",
      "High speed trains like the bullet train are not a bad option, but I sometimes worry about passenger safety.\n"
     ]
    }
   ],
   "source": [
    "#3-3\n",
    "transportation = ['car', 'bus', 'mta train', 'plane', 'bullet train']\n",
    "\n",
    "print('Owning a {} can get really expensive, but it offers the most freedom.\\n'.format(transportation[0]))\n",
    "print(\"I don't like traveling by {}. It always gets overcrowded and smelly. It also gets stuck in traffic a lot.\\n\".format(transportation[1]))\n",
    "print(\"Going by {} isn't too bad, but there are so many delays and it gets overcrowded easily.\\n\".format(transportation[2]))\n",
    "print(f'Going by {transportation[3]} is great for long distance, but the whole process of getting on a train takes hours.\\n')\n",
    "print(f'High speed trains like the {transportation[4]} are not a bad option, but I sometimes worry about passenger safety.')\n"
   ]
  },
  {
   "cell_type": "code",
   "execution_count": 35,
   "metadata": {},
   "outputs": [
    {
     "name": "stdout",
     "output_type": "stream",
     "text": [
      "Hey, Person 1! You're invited to dinner at my place. Aren't you excited?!\n",
      "Hey there, Person 2! Meet me for dinner tonight. My place!\n",
      "Ahoy there, Person 3! Wanna catch dinner tonight?\n"
     ]
    }
   ],
   "source": [
    "#3-4\n",
    "dinner_guests = ['Person 1', 'Person 2', 'Person 3']\n",
    "\n",
    "print(f\"Hey, {dinner_guests[0]}! You're invited to dinner at my place. Aren't you excited?!\")\n",
    "print(\"Hey there, {}! Meet me for dinner tonight. My place!\".format(dinner_guests[1]))\n",
    "print(\"Ahoy there, {dg}! Wanna catch dinner tonight?\".format(dg = dinner_guests[2]))"
   ]
  },
  {
   "cell_type": "code",
   "execution_count": 39,
   "metadata": {},
   "outputs": [
    {
     "name": "stdout",
     "output_type": "stream",
     "text": [
      "I sent dinner invitations to Person 1, Person 2, and Person 3.\n",
      "Person 3 can't make it tonight, unfortunately.\n",
      "\n",
      "You are invited to dinner, Person 1\n",
      "You are invited to dinner, Person 2\n",
      "You are invited to dinner, Person 4\n"
     ]
    }
   ],
   "source": [
    "#3-5\n",
    "dinner_guests = ['Person 1', 'Person 2', 'Person 3']\n",
    "\n",
    "print(f\"I sent dinner invitations to {dinner_guests[0]}, {dinner_guests[1]}, and {dinner_guests[2]}.\")\n",
    "print(f\"{dinner_guests[2]} can't make it tonight, unfortunately.\\n\")\n",
    "\n",
    "dinner_guests[2] = 'Person 4'\n",
    "\n",
    "print(f\"You are invited to dinner, {dinner_guests[0]}\")\n",
    "print(f\"You are invited to dinner, {dinner_guests[1]}\")\n",
    "print(f\"You are invited to dinner, {dinner_guests[2]}\")"
   ]
  },
  {
   "cell_type": "code",
   "execution_count": 46,
   "metadata": {},
   "outputs": [
    {
     "name": "stdout",
     "output_type": "stream",
     "text": [
      "I found a bigger dinner table, so I am sending out dinner invitations to more people! Yay!\n",
      "\n",
      "You are invited to dinner, Person 5\n",
      "You are invited to dinner, Person 1\n",
      "You are invited to dinner, Person 6\n",
      "You are invited to dinner, Person 2\n",
      "You are invited to dinner, Person 4\n",
      "You are invited to dinner, Person 7\n"
     ]
    }
   ],
   "source": [
    "#3-6\n",
    "dinner_guests = ['Person 1', 'Person 2', 'Person 4']\n",
    "\n",
    "print(\"I found a bigger dinner table, so I am sending out dinner invitations to more people! Yay!\\n\")\n",
    "\n",
    "dinner_guests.insert(0, \"Person 5\")\n",
    "dinner_guests.insert(2, \"Person 6\")\n",
    "dinner_guests.append(\"Person 7\")\n",
    "\n",
    "print(f\"You are invited to dinner, {dinner_guests[0]}\")\n",
    "print(f\"You are invited to dinner, {dinner_guests[1]}\")\n",
    "print(f\"You are invited to dinner, {dinner_guests[2]}\")\n",
    "print(f\"You are invited to dinner, {dinner_guests[3]}\")\n",
    "print(f\"You are invited to dinner, {dinner_guests[4]}\")\n",
    "print(f\"You are invited to dinner, {dinner_guests[5]}\")"
   ]
  },
  {
   "cell_type": "code",
   "execution_count": 47,
   "metadata": {},
   "outputs": [
    {
     "name": "stdout",
     "output_type": "stream",
     "text": [
      "My new dinner table won't arrive in time, so I need to un-invite some people. :( \n",
      "\n",
      "I'm sorry, Person 5 but I need to cancel plans with you tonight.\n",
      "I'm sorry, Person 6 but I need to cancel plans with you tonight.\n",
      "I'm sorry, Person 7 but I need to cancel plans with you tonight.\n",
      "I'm sorry, Person 4 but I need to cancel plans with you tonight.\n",
      "\n",
      "You're still invited to dinner tonight, Person 1.\n",
      "You're still invited to dinner tonight, Person 2.\n"
     ]
    },
    {
     "data": {
      "text/plain": [
       "[]"
      ]
     },
     "execution_count": 47,
     "metadata": {},
     "output_type": "execute_result"
    }
   ],
   "source": [
    "#3-7\n",
    "guests = dinner_guests\n",
    "\n",
    "print(\"My new dinner table won't arrive in time, so I need to un-invite some people. :( \\n\")\n",
    "\n",
    "\n",
    "print(f\"I'm sorry, {guests.pop(0)} but I need to cancel plans with you tonight.\")\n",
    "\n",
    "print(f\"I'm sorry, {guests.pop(1)} but I need to cancel plans with you tonight.\")\n",
    "\n",
    "print(f\"I'm sorry, {guests.pop()} but I need to cancel plans with you tonight.\")\n",
    "\n",
    "print(f\"I'm sorry, {guests.pop()} but I need to cancel plans with you tonight.\\n\")\n",
    "\n",
    "print(f\"You're still invited to dinner tonight, {guests[0]}.\")\n",
    "print(f\"You're still invited to dinner tonight, {guests[1]}.\")\n",
    "\n",
    "del guests[1]\n",
    "del guests[0]\n",
    "\n",
    "guests"
   ]
  },
  {
   "cell_type": "code",
   "execution_count": 69,
   "metadata": {},
   "outputs": [
    {
     "name": "stdout",
     "output_type": "stream",
     "text": [
      "Canada\n",
      "England\n",
      "Australia\n",
      "Netherlands\n",
      "National Parks of the USA\n",
      "\n",
      "\n",
      "['Canada', 'England', 'Australia', 'Netherlands', 'National Parks of the USA']\n",
      "['Australia', 'Canada', 'England', 'National Parks of the USA', 'Netherlands']\n",
      "['Canada', 'England', 'Australia', 'Netherlands', 'National Parks of the USA']\n",
      "['National Parks of the USA', 'Netherlands', 'Australia', 'England', 'Canada']\n",
      "['Canada', 'England', 'Australia', 'Netherlands', 'National Parks of the USA']\n",
      "['Australia', 'Canada', 'England', 'National Parks of the USA', 'Netherlands']\n",
      "['Netherlands', 'National Parks of the USA', 'England', 'Canada', 'Australia']\n"
     ]
    }
   ],
   "source": [
    "#3-8\n",
    "\n",
    "locations = ['Canada', 'England', 'Australia', 'Netherlands', 'National Parks of the USA']\n",
    "\n",
    "print(locations[0])\n",
    "print(locations[1])\n",
    "print(locations[2])\n",
    "print(locations[3])\n",
    "print(locations[4])\n",
    "print('\\n')\n",
    "print(locations)             # original list\n",
    "print(sorted(locations))     # sort list non-destructively\n",
    "print(locations)             # original list's order not altered\n",
    "locations.reverse()          # destructively reverses the order of the list\n",
    "print(locations)             # original list is reversed\n",
    "locations.reverse()          # destructively reversing the order again\n",
    "print(locations)             # see, all reversed\n",
    "locations.sort()             # destructively sort the list\n",
    "print(locations)             # original list sorted alphabetically\n",
    "locations.sort(reverse=True) # destructively sorted the list in reverse alphabetical order\n",
    "print(locations)             # see, original list is in reverse alphabetical order\n"
   ]
  },
  {
   "cell_type": "code",
   "execution_count": 73,
   "metadata": {},
   "outputs": [
    {
     "data": {
      "text/plain": [
       "6"
      ]
     },
     "execution_count": 73,
     "metadata": {},
     "output_type": "execute_result"
    }
   ],
   "source": [
    "#3-9\n",
    "# print the length one of the previous dinner guest lists\n",
    "\n",
    "dinner_guests = ['Person 1', 'Person 2', 'Person 4']\n",
    "\n",
    "dinner_guests.insert(0, \"Person 5\")\n",
    "dinner_guests.insert(2, \"Person 6\")\n",
    "dinner_guests.append(\"Person 7\")\n",
    "\n",
    "len(dinner_guests)"
   ]
  },
  {
   "cell_type": "code",
   "execution_count": 103,
   "metadata": {},
   "outputs": [
    {
     "name": "stdout",
     "output_type": "stream",
     "text": [
      "['bike', 'car', 'train', 'airplane', 'boat', 'water', 'mountain', 'land', 'sea', 'plants', 'creatures']\n"
     ]
    }
   ],
   "source": [
    "#3-10\n",
    "#Random List\n",
    "\n",
    "stuff = ['bike', 'car', 'train', 'airplane', 'boat', 'water', 'mountain', 'land', 'sea', 'plants', 'creatures']\n",
    "print(stuff)"
   ]
  },
  {
   "cell_type": "code",
   "execution_count": 104,
   "metadata": {},
   "outputs": [
    {
     "name": "stdout",
     "output_type": "stream",
     "text": [
      "11\n",
      "Before: creatures\n",
      "After: animals\n"
     ]
    }
   ],
   "source": [
    "stuff[0]\n",
    "print(len(stuff))\n",
    "\n",
    "print(f'Before: {stuff[10]}')\n",
    "stuff[len(stuff) - 1] = \"animals\"\n",
    "print(f'After: {stuff[10]}')"
   ]
  },
  {
   "cell_type": "code",
   "execution_count": 105,
   "metadata": {},
   "outputs": [],
   "source": [
    "stuff.append(\"nature\")"
   ]
  },
  {
   "cell_type": "code",
   "execution_count": 106,
   "metadata": {},
   "outputs": [
    {
     "name": "stdout",
     "output_type": "stream",
     "text": [
      "['bike', 'car', 'train', 'airplane', 'boat', 'water', 'mountain', 'land', 'sea', 'plants', 'animals', 'nature']\n"
     ]
    }
   ],
   "source": [
    "print(stuff)"
   ]
  },
  {
   "cell_type": "code",
   "execution_count": 112,
   "metadata": {},
   "outputs": [
    {
     "name": "stdout",
     "output_type": "stream",
     "text": [
      "['computer', 'computer', 'bike', 'car', 'train', 'airplane', 'boat', 'water', 'mountain', 'land', 'sea', 'plants', 'animals', 'nature']\n"
     ]
    }
   ],
   "source": [
    "stuff.insert(0, \"computer\")\n",
    "print(stuff)"
   ]
  },
  {
   "cell_type": "code",
   "execution_count": 113,
   "metadata": {},
   "outputs": [
    {
     "name": "stdout",
     "output_type": "stream",
     "text": [
      "['computer', 'bike', 'car', 'train', 'airplane', 'boat', 'water', 'mountain', 'land', 'sea', 'plants', 'animals', 'nature']\n"
     ]
    }
   ],
   "source": [
    "stuff.remove('computer')\n",
    "print(stuff)"
   ]
  },
  {
   "cell_type": "code",
   "execution_count": 115,
   "metadata": {},
   "outputs": [
    {
     "name": "stdout",
     "output_type": "stream",
     "text": [
      "['computer', 'bike', 'car', 'train', 'airplane', 'train', 'train', 'boat', 'water', 'mountain', 'land', 'sea', 'plants', 'animals', 'nature']\n"
     ]
    }
   ],
   "source": [
    "stuff.insert(5, \"train\")\n",
    "print(stuff)"
   ]
  },
  {
   "cell_type": "code",
   "execution_count": 116,
   "metadata": {},
   "outputs": [
    {
     "data": {
      "text/plain": [
       "'train'"
      ]
     },
     "execution_count": 116,
     "metadata": {},
     "output_type": "execute_result"
    }
   ],
   "source": [
    "stuff.pop(5)"
   ]
  },
  {
   "cell_type": "code",
   "execution_count": 117,
   "metadata": {},
   "outputs": [
    {
     "name": "stdout",
     "output_type": "stream",
     "text": [
      "['computer', 'bike', 'car', 'train', 'airplane', 'train', 'boat', 'water', 'mountain', 'land', 'sea', 'plants', 'animals', 'nature']\n"
     ]
    }
   ],
   "source": [
    "print(stuff)"
   ]
  },
  {
   "cell_type": "code",
   "execution_count": 118,
   "metadata": {},
   "outputs": [
    {
     "name": "stdout",
     "output_type": "stream",
     "text": [
      "['computer', 'bike', 'car', 'airplane', 'train', 'boat', 'water', 'mountain', 'land', 'sea', 'plants', 'animals', 'nature']\n"
     ]
    }
   ],
   "source": [
    "stuff.remove('train')\n",
    "print(stuff)"
   ]
  },
  {
   "cell_type": "code",
   "execution_count": 119,
   "metadata": {},
   "outputs": [
    {
     "name": "stdout",
     "output_type": "stream",
     "text": [
      "['computer', 'bike', 'car', 'airplane', 'train', 'boat', 'water', 'mountain', 'land', 'sea', 'plants', 'animals', 'nature', 'nuture']\n"
     ]
    }
   ],
   "source": [
    "stuff.append(\"nuture\")\n",
    "print(stuff)"
   ]
  },
  {
   "cell_type": "code",
   "execution_count": 120,
   "metadata": {},
   "outputs": [
    {
     "name": "stdout",
     "output_type": "stream",
     "text": [
      "['computer', 'bike', 'car', 'airplane', 'train', 'boat', 'water', 'mountain', 'land', 'sea', 'plants', 'animals', 'nature']\n"
     ]
    }
   ],
   "source": [
    "stuff.pop()\n",
    "print(stuff)"
   ]
  },
  {
   "cell_type": "code",
   "execution_count": 124,
   "metadata": {},
   "outputs": [
    {
     "name": "stdout",
     "output_type": "stream",
     "text": [
      "['computer', 'bike', 'car', 'airplane', 'train', 'boat', 'water', 'mountain', 'land', 'sea', 'plants', 'animals', 'nature', 'foofoos']\n"
     ]
    }
   ],
   "source": [
    "stuff.append('foofoos')\n",
    "print(stuff)"
   ]
  },
  {
   "cell_type": "code",
   "execution_count": 125,
   "metadata": {},
   "outputs": [
    {
     "data": {
      "text/plain": [
       "14"
      ]
     },
     "execution_count": 125,
     "metadata": {},
     "output_type": "execute_result"
    }
   ],
   "source": [
    "len(stuff)"
   ]
  },
  {
   "cell_type": "code",
   "execution_count": 126,
   "metadata": {},
   "outputs": [
    {
     "name": "stdout",
     "output_type": "stream",
     "text": [
      "['computer', 'bike', 'car', 'airplane', 'train', 'boat', 'water', 'mountain', 'land', 'sea', 'plants', 'animals', 'nature', 'foofoos']\n",
      "['computer', 'bike', 'car', 'airplane', 'train', 'boat', 'water', 'mountain', 'land', 'sea', 'plants', 'animals', 'nature']\n"
     ]
    }
   ],
   "source": [
    "print(stuff)\n",
    "del stuff[13]\n",
    "print(stuff)"
   ]
  },
  {
   "cell_type": "code",
   "execution_count": 129,
   "metadata": {},
   "outputs": [
    {
     "name": "stdout",
     "output_type": "stream",
     "text": [
      "['airplane', 'animals', 'bike', 'boat', 'car', 'computer', 'land', 'mountain', 'nature', 'plants', 'sea', 'train', 'water']\n"
     ]
    }
   ],
   "source": [
    "print(sorted(stuff))"
   ]
  },
  {
   "cell_type": "code",
   "execution_count": 136,
   "metadata": {},
   "outputs": [
    {
     "name": "stdout",
     "output_type": "stream",
     "text": [
      "Original:\n",
      "['airplane', 'animals', 'bike', 'boat', 'car', 'computer', 'land', 'mountain', 'nature', 'plants', 'sea', 'train', 'water'] \n",
      "\n",
      "sorted():\n",
      "['airplane', 'animals', 'bike', 'boat', 'car', 'computer', 'land', 'mountain', 'nature', 'plants', 'sea', 'train', 'water'] \n",
      "\n",
      "After sorted():\n",
      "['airplane', 'animals', 'bike', 'boat', 'car', 'computer', 'land', 'mountain', 'nature', 'plants', 'sea', 'train', 'water'] \n",
      "\n",
      ".sort():\n",
      "['airplane', 'animals', 'bike', 'boat', 'car', 'computer', 'land', 'mountain', 'nature', 'plants', 'sea', 'train', 'water'] \n",
      "\n",
      ".sort(reverse=True):\n",
      "['water', 'train', 'sea', 'plants', 'nature', 'mountain', 'land', 'computer', 'car', 'boat', 'bike', 'animals', 'airplane'] \n",
      "\n",
      ".reverse():\n",
      "['airplane', 'animals', 'bike', 'boat', 'car', 'computer', 'land', 'mountain', 'nature', 'plants', 'sea', 'train', 'water'] \n",
      "\n"
     ]
    }
   ],
   "source": [
    "print(f'Original:\\n{stuff} \\n')\n",
    "print(f'sorted():\\n{sorted(stuff)} \\n')\n",
    "print(f'After sorted():\\n{stuff} \\n')\n",
    "stuff.sort()\n",
    "print(f'.sort():\\n{stuff} \\n')\n",
    "stuff.sort(reverse=True)\n",
    "print(f'.sort(reverse=True):\\n{stuff} \\n')\n",
    "stuff.reverse()\n",
    "print(f'.reverse():\\n{stuff} \\n')"
   ]
  },
  {
   "cell_type": "code",
   "execution_count": null,
   "metadata": {},
   "outputs": [],
   "source": []
  }
 ],
 "metadata": {
  "kernelspec": {
   "display_name": "Python 3",
   "language": "python",
   "name": "python3"
  },
  "language_info": {
   "codemirror_mode": {
    "name": "ipython",
    "version": 3
   },
   "file_extension": ".py",
   "mimetype": "text/x-python",
   "name": "python",
   "nbconvert_exporter": "python",
   "pygments_lexer": "ipython3",
   "version": "3.7.1"
  }
 },
 "nbformat": 4,
 "nbformat_minor": 2
}
