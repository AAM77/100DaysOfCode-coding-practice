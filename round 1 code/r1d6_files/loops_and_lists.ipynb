{
 "cells": [
  {
   "cell_type": "code",
   "execution_count": 7,
   "metadata": {},
   "outputs": [
    {
     "name": "stdout",
     "output_type": "stream",
     "text": [
      "pizza 1\n",
      "pizza 2\n",
      "pizza 3\n",
      "\n",
      "\n",
      "I like eating pizza 1\n",
      "I like eating pizza 2\n",
      "I like eating pizza 3\n",
      "\n",
      "I really love pizza!\n"
     ]
    }
   ],
   "source": [
    "#4-1\n",
    "pizzas = ['pizza 1', 'pizza 2', 'pizza 3']\n",
    "\n",
    "for pizza in pizzas:\n",
    "    print(pizza)\n",
    "\n",
    "print('\\n')\n",
    "\n",
    "for pizza in pizzas:\n",
    "    print(\"I like eating \" + pizza)\n",
    "\n",
    "print('')\n",
    "print(\"I really love pizza!\")"
   ]
  },
  {
   "cell_type": "code",
   "execution_count": 14,
   "metadata": {},
   "outputs": [
    {
     "name": "stdout",
     "output_type": "stream",
     "text": [
      "I would like to own a lot of land with a(n) ostrich in it.\n",
      "I would like to own a lot of land with a(n) turkey in it.\n",
      "I would like to own a lot of land with a(n) chicken in it.\n",
      "\n",
      "All of these animals are birds!\n"
     ]
    }
   ],
   "source": [
    "#4-2\n",
    "animals = ['ostrich', 'turkey', 'chicken']\n",
    "\n",
    "for animal in animals:\n",
    "    print('I would like to own a lot of land with a(n) ' + animal + ' in it.')\n",
    "    \n",
    "print('')\n",
    "print('All of these animals are birds!')"
   ]
  },
  {
   "cell_type": "code",
   "execution_count": null,
   "metadata": {},
   "outputs": [],
   "source": [
    "#############################################################################################\n",
    "#                                                                                           #\n",
    "# List Comprehensions                                                                       #\n",
    "#                                                                                           #\n",
    "# Generating new lists after doing something to the elements of a range or another list     #\n",
    "# (it's kind of like mapping in ruby)                                                       #\n",
    "#                                                                                           #\n",
    "# remember that the format is along the lines of:                                           #\n",
    "# ['do this with element' for element in range(str, stp, step)]                             #\n",
    "#                                                                                           #\n",
    "# e.g [value**2 for value in range(1,11)]                                                   #\n",
    "#                                                                                           #\n",
    "#############################################################################################"
   ]
  },
  {
   "cell_type": "code",
   "execution_count": 16,
   "metadata": {},
   "outputs": [
    {
     "name": "stdout",
     "output_type": "stream",
     "text": [
      "1\n",
      "2\n",
      "3\n",
      "4\n",
      "5\n",
      "6\n",
      "7\n",
      "8\n",
      "9\n",
      "10\n",
      "11\n",
      "12\n",
      "13\n",
      "14\n",
      "15\n",
      "16\n",
      "17\n",
      "18\n",
      "19\n",
      "20\n"
     ]
    }
   ],
   "source": [
    "#4-3\n",
    "for num in range(1,21):\n",
    "    print(num)"
   ]
  },
  {
   "cell_type": "code",
   "execution_count": 19,
   "metadata": {},
   "outputs": [
    {
     "name": "stdout",
     "output_type": "stream",
     "text": [
      "1\n",
      "1000000\n",
      "500000500000\n"
     ]
    }
   ],
   "source": [
    "one_to_mil = list(range(1,1000001))\n",
    "print(min(one_to_mil))\n",
    "print(max(one_to_mil))\n",
    "print(sum(one_to_mil))"
   ]
  },
  {
   "cell_type": "code",
   "execution_count": null,
   "metadata": {},
   "outputs": [],
   "source": []
  },
  {
   "cell_type": "code",
   "execution_count": 46,
   "metadata": {},
   "outputs": [
    {
     "name": "stdout",
     "output_type": "stream",
     "text": [
      "1\n",
      "2\n",
      "3\n",
      "4\n",
      "5\n",
      "6\n",
      "7\n",
      "8\n",
      "9\n",
      "10\n"
     ]
    }
   ],
   "source": [
    "#4-4\n",
    "# commented out the part that prints from 1 to 1000000.\n",
    "# you can try it out, but it works fine. \n",
    "# subtituted it with a range to 10\n",
    "\n",
    "# num_list = list(range(1,1000001))\n",
    "\n",
    "# for num in num_list:\n",
    "#     print(num)\n",
    "\n",
    "num_list = list(range(1,11))\n",
    "\n",
    "for num in num_list:\n",
    "    print(num)"
   ]
  },
  {
   "cell_type": "code",
   "execution_count": 24,
   "metadata": {},
   "outputs": [
    {
     "name": "stdout",
     "output_type": "stream",
     "text": [
      "1\n",
      "1000000\n",
      "500000500000\n"
     ]
    }
   ],
   "source": [
    "#4-5\n",
    "one_to_mil = list(range(1,1000001))\n",
    "print(min(one_to_mil))\n",
    "print(max(one_to_mil))\n",
    "print(sum(one_to_mil))"
   ]
  },
  {
   "cell_type": "code",
   "execution_count": 25,
   "metadata": {},
   "outputs": [
    {
     "name": "stdout",
     "output_type": "stream",
     "text": [
      "1\n",
      "3\n",
      "5\n",
      "7\n",
      "9\n",
      "11\n",
      "13\n",
      "15\n",
      "17\n",
      "19\n"
     ]
    }
   ],
   "source": [
    "#4-6\n",
    "odd_numbers = list(range(1,21,2))\n",
    "\n",
    "for odd_num in odd_numbers:\n",
    "    print(odd_num)"
   ]
  },
  {
   "cell_type": "code",
   "execution_count": 39,
   "metadata": {},
   "outputs": [
    {
     "name": "stdout",
     "output_type": "stream",
     "text": [
      "[]\n",
      "\n",
      "[3, 6, 9, 12, 15, 18, 21, 24, 27, 30, 33, 36, 39, 42, 45, 48, 51, 54, 57, 60, 63, 66, 69, 72, 75, 78, 81, 84, 87, 90]\n",
      "\n",
      "3\n",
      "6\n",
      "9\n",
      "12\n",
      "15\n",
      "18\n",
      "21\n",
      "24\n",
      "27\n",
      "30\n",
      "33\n",
      "36\n",
      "39\n",
      "42\n",
      "45\n",
      "48\n",
      "51\n",
      "54\n",
      "57\n",
      "60\n",
      "63\n",
      "66\n",
      "69\n",
      "72\n",
      "75\n",
      "78\n",
      "81\n",
      "84\n",
      "87\n",
      "90\n"
     ]
    }
   ],
   "source": [
    "#4-7\n",
    "multiples_of_three = []\n",
    "print(multiples_of_three)\n",
    "print('')\n",
    "\n",
    "for num in range(1,31):\n",
    "    multiples_of_three.append(num*3)\n",
    "\n",
    "print(multiples_of_three)\n",
    "print('')\n",
    "\n",
    "for num in multiples_of_three:\n",
    "    print(num)\n",
    "    "
   ]
  },
  {
   "cell_type": "code",
   "execution_count": 40,
   "metadata": {},
   "outputs": [
    {
     "name": "stdout",
     "output_type": "stream",
     "text": [
      "[]\n",
      "\n",
      "[1, 8, 27, 64, 125, 216, 343, 512, 729, 1000]\n",
      "\n",
      "1\n",
      "8\n",
      "27\n",
      "64\n",
      "125\n",
      "216\n",
      "343\n",
      "512\n",
      "729\n",
      "1000\n"
     ]
    }
   ],
   "source": [
    "#4-8\n",
    "first_ten_cubes = []\n",
    "\n",
    "print(first_ten_cubes)\n",
    "print('')\n",
    "\n",
    "for num in range(1,11):\n",
    "    first_ten_cubes.append(num**3)\n",
    "    \n",
    "print(first_ten_cubes)\n",
    "print('')\n",
    "    \n",
    "for num in first_ten_cubes:\n",
    "    print(num)"
   ]
  },
  {
   "cell_type": "code",
   "execution_count": 41,
   "metadata": {},
   "outputs": [
    {
     "name": "stdout",
     "output_type": "stream",
     "text": [
      "[3, 6, 9, 12, 15, 18, 21, 24, 27, 30, 33, 36, 39, 42, 45, 48, 51, 54, 57, 60, 63, 66, 69, 72, 75, 78, 81, 84, 87, 90]\n",
      "\n",
      "[1, 8, 27, 64, 125, 216, 343, 512, 729, 1000]\n",
      "\n"
     ]
    }
   ],
   "source": [
    "#4-9\n",
    "multiples_of_three_again = [num*3 for num in range(1,31)]\n",
    "\n",
    "print(multiples_of_three_again)\n",
    "print('')\n",
    "\n",
    "first_ten_cubes_again = [num**3 for num in range(1,11)]\n",
    "\n",
    "print(first_ten_cubes_again)\n",
    "print('')"
   ]
  },
  {
   "cell_type": "code",
   "execution_count": 56,
   "metadata": {},
   "outputs": [
    {
     "name": "stdout",
     "output_type": "stream",
     "text": [
      "The first three items in the list are: [1, 8, 27]\n",
      "Three items from the middle of thelist are: [125, 216, 343]\n",
      "The last three items in the list are: [512, 729, 1000]\n",
      "The last three items in the list are: [512, 729, 1000]\n"
     ]
    }
   ],
   "source": [
    "#4-10\n",
    "ten_cubes = [num**3 for num in range(1,11)]\n",
    "\n",
    "print(f'The first three items in the list are: {ten_cubes[:3]}')\n",
    "print(f'Three items from the middle of thelist are: {ten_cubes[4:7]}')\n",
    "print(f'The last three items in the list are: {ten_cubes[7:]}')\n",
    "# can also write this one as ten_cubes[-3:] to list the last three items\n",
    "# this is because we are telling it to begin from 3 before the end\n",
    "# let's try it out and you'll see what I mean:\n",
    "print(f'The last three items in the list are: {ten_cubes[-3:]}')\n",
    "# see?"
   ]
  },
  {
   "cell_type": "code",
   "execution_count": 61,
   "metadata": {},
   "outputs": [
    {
     "name": "stdout",
     "output_type": "stream",
     "text": [
      "['pizza 1', 'pizza 2', 'pizza 3']\n",
      "['pizza 1', 'pizza 2', 'pizza 3']\n"
     ]
    }
   ],
   "source": [
    "#4-11\n",
    "friend_pizzas = pizzas[:]\n",
    "print(pizzas)\n",
    "print(friend_pizzas)\n",
    "\n",
    "pizzas.append('pizza 4')\n",
    "friend_pizzas.append('square pizza')"
   ]
  },
  {
   "cell_type": "code",
   "execution_count": 62,
   "metadata": {},
   "outputs": [
    {
     "name": "stdout",
     "output_type": "stream",
     "text": [
      "['pizza 1', 'pizza 2', 'pizza 3', 'pizza 4']\n",
      "['pizza 1', 'pizza 2', 'pizza 3', 'square pizza']\n"
     ]
    }
   ],
   "source": [
    "print(pizzas)\n",
    "print(friend_pizzas)"
   ]
  },
  {
   "cell_type": "code",
   "execution_count": 64,
   "metadata": {},
   "outputs": [
    {
     "name": "stdout",
     "output_type": "stream",
     "text": [
      "My favorite pizzas are:\n",
      "pizza 1\n",
      "pizza 2\n",
      "pizza 3\n",
      "pizza 4\n",
      "\n",
      "My friend's favorite pizzas are:\n",
      "pizza 1\n",
      "pizza 2\n",
      "pizza 3\n",
      "square pizza\n"
     ]
    }
   ],
   "source": [
    "print(f'My favorite pizzas are:')\n",
    "for pizza in pizzas:\n",
    "    print(pizza)\n",
    "\n",
    "print('')\n",
    "print(f\"My friend's favorite pizzas are:\")\n",
    "for pizza in friend_pizzas:\n",
    "    print(pizza)"
   ]
  },
  {
   "cell_type": "code",
   "execution_count": 65,
   "metadata": {},
   "outputs": [
    {
     "name": "stdout",
     "output_type": "stream",
     "text": [
      "My favorite foods include:\n",
      "pizza\n",
      "salad\n",
      "milk\n",
      "ice cream\n",
      "\n",
      "My friend's favorite foods include:\n",
      "pizza\n",
      "salad\n",
      "milk\n",
      "carrot cake\n"
     ]
    }
   ],
   "source": [
    "#4-12\n",
    "my_foods = ['pizza', 'salad', 'milk']\n",
    "friend_foods = my_foods[:]\n",
    "\n",
    "my_foods.append('ice cream')\n",
    "friend_foods.append('carrot cake')\n",
    "\n",
    "print(\"My favorite foods include:\")\n",
    "for food in my_foods:\n",
    "    print(food)\n",
    "\n",
    "print('')\n",
    "print(\"My friend's favorite foods include:\")\n",
    "for food in friend_foods:\n",
    "    print(food)\n",
    "    "
   ]
  },
  {
   "cell_type": "code",
   "execution_count": 66,
   "metadata": {},
   "outputs": [
    {
     "name": "stdout",
     "output_type": "stream",
     "text": [
      "rice\n",
      "mashed potatoes\n",
      "pizza\n",
      "salmon\n",
      "pasta\n"
     ]
    }
   ],
   "source": [
    "##########\n",
    "# TUPLES #\n",
    "##########\n",
    "\n",
    "buffet_foods = ('rice', 'mashed potatoes', 'pizza', 'salmon', 'pasta')\n",
    "\n",
    "for food in buffet_foods:\n",
    "    print(food)"
   ]
  },
  {
   "cell_type": "code",
   "execution_count": 68,
   "metadata": {},
   "outputs": [
    {
     "ename": "TypeError",
     "evalue": "'tuple' object does not support item assignment",
     "output_type": "error",
     "traceback": [
      "\u001b[0;31m---------------------------------------------------------------------------\u001b[0m",
      "\u001b[0;31mTypeError\u001b[0m                                 Traceback (most recent call last)",
      "\u001b[0;32m<ipython-input-68-a17b93b572db>\u001b[0m in \u001b[0;36m<module>\u001b[0;34m\u001b[0m\n\u001b[1;32m      1\u001b[0m \u001b[0mbuffet_foods\u001b[0m\u001b[0;34m[\u001b[0m\u001b[0;34m-\u001b[0m\u001b[0;36m1\u001b[0m\u001b[0;34m]\u001b[0m\u001b[0;34m\u001b[0m\u001b[0;34m\u001b[0m\u001b[0m\n\u001b[0;32m----> 2\u001b[0;31m \u001b[0mbuffet_foods\u001b[0m\u001b[0;34m[\u001b[0m\u001b[0;34m-\u001b[0m\u001b[0;36m1\u001b[0m\u001b[0;34m]\u001b[0m \u001b[0;34m=\u001b[0m \u001b[0;34m\"spaghetti\"\u001b[0m\u001b[0;34m\u001b[0m\u001b[0;34m\u001b[0m\u001b[0m\n\u001b[0m",
      "\u001b[0;31mTypeError\u001b[0m: 'tuple' object does not support item assignment"
     ]
    }
   ],
   "source": [
    "# demonstrate that tuples are immutable\n",
    "buffet_foods[-1]\n",
    "buffet_foods[-1] = \"spaghetti\""
   ]
  },
  {
   "cell_type": "code",
   "execution_count": 71,
   "metadata": {},
   "outputs": [
    {
     "ename": "AttributeError",
     "evalue": "'tuple' object has no attribute 'append'",
     "output_type": "error",
     "traceback": [
      "\u001b[0;31m---------------------------------------------------------------------------\u001b[0m",
      "\u001b[0;31mAttributeError\u001b[0m                            Traceback (most recent call last)",
      "\u001b[0;32m<ipython-input-71-a9f4926266de>\u001b[0m in \u001b[0;36m<module>\u001b[0;34m\u001b[0m\n\u001b[1;32m      2\u001b[0m \u001b[0;31m# meaning, I can't append either\u001b[0m\u001b[0;34m\u001b[0m\u001b[0;34m\u001b[0m\u001b[0;34m\u001b[0m\u001b[0m\n\u001b[1;32m      3\u001b[0m \u001b[0mbuffet_foods\u001b[0m \u001b[0;34m=\u001b[0m \u001b[0mbuffet_foods\u001b[0m\u001b[0;34m[\u001b[0m\u001b[0;34m:\u001b[0m\u001b[0;36m3\u001b[0m\u001b[0;34m]\u001b[0m\u001b[0;34m\u001b[0m\u001b[0;34m\u001b[0m\u001b[0m\n\u001b[0;32m----> 4\u001b[0;31m \u001b[0mbuffet_foods\u001b[0m\u001b[0;34m.\u001b[0m\u001b[0mappend\u001b[0m\u001b[0;34m(\u001b[0m\u001b[0;34m'apple pie'\u001b[0m\u001b[0;34m)\u001b[0m\u001b[0;34m\u001b[0m\u001b[0;34m\u001b[0m\u001b[0m\n\u001b[0m\u001b[1;32m      5\u001b[0m \u001b[0mbuffet_foods\u001b[0m\u001b[0;34m.\u001b[0m\u001b[0mappend\u001b[0m\u001b[0;34m(\u001b[0m\u001b[0;34m'cake'\u001b[0m\u001b[0;34m)\u001b[0m\u001b[0;34m\u001b[0m\u001b[0;34m\u001b[0m\u001b[0m\n\u001b[1;32m      6\u001b[0m \u001b[0;34m\u001b[0m\u001b[0m\n",
      "\u001b[0;31mAttributeError\u001b[0m: 'tuple' object has no attribute 'append'"
     ]
    }
   ],
   "source": [
    "# can't change tuple values after construction, either\n",
    "# meaning, I can't append either\n",
    "buffet_foods = buffet_foods[:3]\n",
    "buffet_foods.append('apple pie')\n",
    "buffet_foods.append('cake')\n",
    "\n",
    "for food in buffet_foods:\n",
    "    print(food)"
   ]
  },
  {
   "cell_type": "code",
   "execution_count": 73,
   "metadata": {},
   "outputs": [
    {
     "name": "stdout",
     "output_type": "stream",
     "text": [
      "rice\n",
      "mashed potatoes\n",
      "pizza\n",
      "apple pie\n",
      "cake\n"
     ]
    }
   ],
   "source": [
    "# but, we can reassign the variable to a new tuple\n",
    "buffet_foods = ('rice', 'mashed potatoes', 'pizza', 'apple pie', 'cake')\n",
    "\n",
    "for food in buffet_foods:\n",
    "    print(food)"
   ]
  },
  {
   "cell_type": "code",
   "execution_count": null,
   "metadata": {},
   "outputs": [],
   "source": []
  }
 ],
 "metadata": {
  "kernelspec": {
   "display_name": "Python 3",
   "language": "python",
   "name": "python3"
  },
  "language_info": {
   "codemirror_mode": {
    "name": "ipython",
    "version": 3
   },
   "file_extension": ".py",
   "mimetype": "text/x-python",
   "name": "python",
   "nbconvert_exporter": "python",
   "pygments_lexer": "ipython3",
   "version": "3.7.1"
  }
 },
 "nbformat": 4,
 "nbformat_minor": 2
}
