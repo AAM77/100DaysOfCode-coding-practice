{
 "cells": [
  {
   "cell_type": "code",
   "execution_count": 1,
   "metadata": {},
   "outputs": [
    {
     "name": "stdout",
     "output_type": "stream",
     "text": [
      "I stored this message.\n"
     ]
    }
   ],
   "source": [
    "#2-1\n",
    "message = \"I stored this message.\"\n",
    "print(message)"
   ]
  },
  {
   "cell_type": "code",
   "execution_count": 2,
   "metadata": {},
   "outputs": [
    {
     "name": "stdout",
     "output_type": "stream",
     "text": [
      "I stored this message, too.\n"
     ]
    }
   ],
   "source": [
    "#2-2\n",
    "new_message = \"I stored this message, too.\"\n",
    "print(new_message)"
   ]
  },
  {
   "cell_type": "code",
   "execution_count": 4,
   "metadata": {},
   "outputs": [
    {
     "name": "stdout",
     "output_type": "stream",
     "text": [
      "I changed the message.\n"
     ]
    }
   ],
   "source": [
    "new_message = \"I changed the message.\"\n",
    "print(new_message)"
   ]
  },
  {
   "cell_type": "code",
   "execution_count": 12,
   "metadata": {},
   "outputs": [
    {
     "name": "stdout",
     "output_type": "stream",
     "text": [
      "Hey, Jonathan! I'm learning Python basics today.\n",
      "Hey, Jonathan! I'm learning Python basics today.\n",
      "Hey, Jonathan! I'm learning Python basics today.\n"
     ]
    }
   ],
   "source": [
    "#2-3\n",
    "person_1 = \"Jonathan\"\n",
    "message_1 = \"I'm learning Python basics today.\"\n",
    "\n",
    "print(f'Hey, {person_1}! {message_1}')\n",
    "print('Hey, {}! {}'.format(person_1, message_1))\n",
    "print('Hey, {p}! {m}'.format(p = person_1, m = message_1))"
   ]
  },
  {
   "cell_type": "code",
   "execution_count": 14,
   "metadata": {},
   "outputs": [
    {
     "name": "stdout",
     "output_type": "stream",
     "text": [
      "lower_cased = jose ng\n",
      "upper_cased = JOSE NG\n",
      "title_cased = Jose Ng\n"
     ]
    }
   ],
   "source": [
    "#2-4\n",
    "person_2 = \"Jose Ng\"\n",
    "print(f'lower_cased = {person_2.lower()}')\n",
    "print(f'upper_cased = {person_2.upper()}')\n",
    "print(f'title_cased = {person_2.title()}')"
   ]
  },
  {
   "cell_type": "code",
   "execution_count": 15,
   "metadata": {},
   "outputs": [
    {
     "name": "stdout",
     "output_type": "stream",
     "text": [
      "Rumi once said, \"Yesterday I was clever, so I wanted to change the world. Today I am wise, so I am changing myself.\"\n"
     ]
    }
   ],
   "source": [
    "#2-5\n",
    "rumi_quote = '\"Yesterday I was clever, so I wanted to change the world. Today I am wise, so I am changing myself.\"'\n",
    "print(f'Rumi once said, {rumi_quote}')"
   ]
  },
  {
   "cell_type": "code",
   "execution_count": 16,
   "metadata": {},
   "outputs": [
    {
     "name": "stdout",
     "output_type": "stream",
     "text": [
      "Rumi once said, \"Yesterday I was clever, so I wanted to change the world. Today I am wise, so I am changing myself.\"\n"
     ]
    }
   ],
   "source": [
    "#2-6\n",
    "rumi = rumi_quote\n",
    "rumi_message = f'Rumi once said, {rumi_quote}'\n",
    "print(rumi_message)"
   ]
  },
  {
   "cell_type": "code",
   "execution_count": 27,
   "metadata": {},
   "outputs": [
    {
     "name": "stdout",
     "output_type": "stream",
     "text": [
      "original: \n",
      "\tJia Xien \tSantos   .\n",
      "\n",
      "right_stripped: \n",
      "\tJia Xien \tSantos.\n",
      "\n",
      "left_stripped: Jia Xien \tSantos   .\n",
      "\n",
      "all_stripped: Jia Xien \tSantos.\n",
      "\n"
     ]
    }
   ],
   "source": [
    "#2-7\n",
    "person_3 = \"\\n\\tJia Xien \\tSantos   \"\n",
    "\n",
    "print(f'original: {person_3}.\\n')\n",
    "print(f'right_stripped: {person_3.rstrip()}.\\n')\n",
    "print(f'left_stripped: {person_3.lstrip()}.\\n')\n",
    "print(f'all_stripped: {person_3.strip()}.\\n')\n"
   ]
  },
  {
   "cell_type": "code",
   "execution_count": null,
   "metadata": {},
   "outputs": [],
   "source": []
  }
 ],
 "metadata": {
  "kernelspec": {
   "display_name": "Python 3",
   "language": "python",
   "name": "python3"
  },
  "language_info": {
   "codemirror_mode": {
    "name": "ipython",
    "version": 3
   },
   "file_extension": ".py",
   "mimetype": "text/x-python",
   "name": "python",
   "nbconvert_exporter": "python",
   "pygments_lexer": "ipython3",
   "version": "3.7.1"
  }
 },
 "nbformat": 4,
 "nbformat_minor": 2
}
