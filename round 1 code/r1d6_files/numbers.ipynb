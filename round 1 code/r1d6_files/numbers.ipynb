{
 "cells": [
  {
   "cell_type": "code",
   "execution_count": 4,
   "metadata": {},
   "outputs": [
    {
     "name": "stdout",
     "output_type": "stream",
     "text": [
      "3+5  = 8\n",
      "15-7 = 8\n",
      "2*4  = 8\n",
      "24/3 = 8.0\n",
      "2**3 = 8\n"
     ]
    }
   ],
   "source": [
    "#2-8\n",
    "addition = 3 + 5\n",
    "subtraction = 15 - 7\n",
    "multiplication = 2*4\n",
    "division = 24/3\n",
    "exponent = 2**3\n",
    "\n",
    "print(f'3+5  = {addition}')\n",
    "print(f'15-7 = {subtraction}')\n",
    "print(f'2*4  = {multiplication}')\n",
    "print(f'24/3 = {division}')\n",
    "print(f'2**3 = {exponent}')"
   ]
  },
  {
   "cell_type": "code",
   "execution_count": 8,
   "metadata": {},
   "outputs": [
    {
     "name": "stdout",
     "output_type": "stream",
     "text": [
      "My favorite number is 2.\n"
     ]
    }
   ],
   "source": [
    "#2-9\n",
    "favorite_number = 2\n",
    "message_1 = \"My favorite number is {num}.\".format(num = favorite_number)\n",
    "\n",
    "print(message_1)"
   ]
  },
  {
   "cell_type": "code",
   "execution_count": 9,
   "metadata": {},
   "outputs": [],
   "source": [
    "#2-10\n",
    "#This is a comment. That's all that this exercise wanted me to do."
   ]
  },
  {
   "cell_type": "markdown",
   "metadata": {},
   "source": [
    "### The Zen of Python, by Tim Peters\n",
    "\n",
    "1. Beautiful is better than ugly.\n",
    "2. Simple is better than complex\n",
    "3. Complex is better than complicated.\n",
    "4. Readability counts.\n",
    "5. There should be one---and preferably only one---obvious way to do it.\n",
    "6. Now is better than never\n"
   ]
  },
  {
   "cell_type": "code",
   "execution_count": null,
   "metadata": {},
   "outputs": [],
   "source": []
  }
 ],
 "metadata": {
  "kernelspec": {
   "display_name": "Python 3",
   "language": "python",
   "name": "python3"
  },
  "language_info": {
   "codemirror_mode": {
    "name": "ipython",
    "version": 3
   },
   "file_extension": ".py",
   "mimetype": "text/x-python",
   "name": "python",
   "nbconvert_exporter": "python",
   "pygments_lexer": "ipython3",
   "version": "3.7.1"
  }
 },
 "nbformat": 4,
 "nbformat_minor": 2
}
